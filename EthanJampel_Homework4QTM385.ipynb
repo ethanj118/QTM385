{
 "cells": [
  {
   "cell_type": "markdown",
   "metadata": {},
   "source": [
    "# QTM 385\n",
    "\n",
    "***\n",
    "\n",
    "## Homework 4\n",
    "\n",
    "Student: [2331253]"
   ]
  },
  {
   "cell_type": "markdown",
   "metadata": {},
   "source": [
    "In this homework, we will create an object called Student, that is useful for a professor to store information about a student."
   ]
  },
  {
   "cell_type": "markdown",
   "metadata": {},
   "source": [
    "\n",
    "***\n",
    "\n",
    "### Question 1\n",
    "\n",
    "Create a class Student, that has:\n",
    "\n",
    "0. Id number (5-digits integer, starting with 1)\n",
    "1. First Name (str)\n",
    "2. Last Name (str)\n",
    "3. Grades (list of floats)\n",
    "4. Credits (list of integers)\n",
    "5. Major (str)\n",
    "\n",
    "Provide a constructor for your class and create one fictitious student."
   ]
  },
  {
   "cell_type": "code",
   "execution_count": 1,
   "metadata": {},
   "outputs": [],
   "source": [
    "class Student:\n",
    "    def __init__(self, Id, fname, lname, grade, credit, major):\n",
    "        self.id = Id\n",
    "        self.first_name = fname\n",
    "        self.last_name = lname\n",
    "        self.grades = grade\n",
    "        self.credits = credit\n",
    "        self.major = major\n",
    "        \n",
    "stu = Student(12345, 'jack', 'smith', [78.0, 93.5, 89.0], [2, 5, 3], 'economics')\n"
   ]
  },
  {
   "cell_type": "markdown",
   "metadata": {},
   "source": [
    "\n",
    "***\n",
    "\n",
    "### Question 2\n",
    "\n",
    "Create a method to nicely display the student when we type `print`. It should display, for example:\n",
    "\n",
    "```\n",
    "Student:\n",
    "    Id: 12345\n",
    "    Name: Mig, Umberto\n",
    "    Major: QSS\n",
    "```\n",
    "\n",
    "Create a method that, when a variable storing a student is typed in the console, displays:\n",
    "\n",
    "```\n",
    "Student(Mig, Umberto; 12345)\n",
    "```\n",
    "\n",
    "Provide some testing with a fictitious result of your choice."
   ]
  },
  {
   "cell_type": "code",
   "execution_count": 2,
   "metadata": {},
   "outputs": [
    {
     "name": "stdout",
     "output_type": "stream",
     "text": [
      "\n",
      "        \n",
      "Student:\n",
      "    ID: 12345\n",
      "    Name: smith, jack\n",
      "    Major: economics\n",
      "    \n"
     ]
    },
    {
     "data": {
      "text/plain": [
       "Student(smith, jack; 12345)"
      ]
     },
     "execution_count": 2,
     "metadata": {},
     "output_type": "execute_result"
    }
   ],
   "source": [
    "##We can use a string representation\n",
    "\n",
    "class Student:\n",
    "    def __init__(self, Id, fname, lname, grade, credit, major):\n",
    "        self.Id = Id\n",
    "        self.first_name = fname\n",
    "        self.last_name = lname\n",
    "        self.grades = grade\n",
    "        self.credits = credit\n",
    "        self.major = major\n",
    "        \n",
    "    def __str__(self):\n",
    "        st_info = \"\"\"\n",
    "        \n",
    "Student:\n",
    "    ID: {Id}\n",
    "    Name: {name}\n",
    "    Major: {major}\n",
    "    \"\"\".format(Id = str(self.Id), name = self.last_name + ', ' + self.first_name, major = self.major)\n",
    "        ###Return as string\n",
    "        return str(st_info)\n",
    "    \n",
    "    ##We can create a method to show the Student when it is typed into the console\n",
    "    def __repr__(self):\n",
    "        return \"Student({nam}; {Id})\".format(nam = self.last_name + ', ' + self.first_name, Id = self.Id)\n",
    "\n",
    "stu = Student(12345, 'jack', 'smith', [78.0, 93.5, 89.0], [2, 5, 3], 'economics')\n",
    "\n",
    "print(stu)\n",
    "stu"
   ]
  },
  {
   "cell_type": "markdown",
   "metadata": {},
   "source": [
    "\n",
    "***\n",
    "\n",
    "### Question 3\n",
    "\n",
    "Implement class methods for:\n",
    "\n",
    "1. Check if the id number is valid (remember: 5 digits, starting with number one)\n",
    "2. Check if the grades list has the same length as the credits list. The idea is that every grade corresponds to a course that gave the student a certain amount of credits.\n",
    "3. Append grade and credit: given a grade, and credits attached to the grade, append both to each respective place.\n",
    "\n",
    "Test your function with a toy student of your choice."
   ]
  },
  {
   "cell_type": "code",
   "execution_count": 3,
   "metadata": {},
   "outputs": [
    {
     "data": {
      "text/plain": [
       "[79.0, 2, 93.5, 5]"
      ]
     },
     "execution_count": 3,
     "metadata": {},
     "output_type": "execute_result"
    }
   ],
   "source": [
    "class Student:\n",
    "    def __init__(self, Id, fname, lname, grade, credit, major):\n",
    "        self.Id = Id\n",
    "        self.first_name = fname\n",
    "        self.last_name = lname\n",
    "        self.grades = grade\n",
    "        self.credits = credit\n",
    "        self.major = major\n",
    "    \n",
    "    ##Method for 1st part: valid ID check    \n",
    "    def id_check(self):\n",
    "        id_num = list(str(self.Id))\n",
    "        if len(id_num) == 5 and int(id_num[0]) == 1:\n",
    "            return True\n",
    "        else:\n",
    "            return False\n",
    "        \n",
    "    ##Method for 2nd part: length check\n",
    "    def len_match(self):\n",
    "        if len(self.credits) == len(self.grades):\n",
    "            return True\n",
    "        else:\n",
    "            return False\n",
    "    \n",
    "    ##Method for third part: appending\n",
    "    def appender(self):\n",
    "        ## We need to make sure that the lists are the same length\n",
    "        if self.len_match() == True:\n",
    "            complete_list = []\n",
    "            for i in range(0, len(self.grades)):\n",
    "                complete_list.append(self.grades[i])\n",
    "                complete_list.append(self.credits[i])\n",
    "            return complete_list\n",
    "        else:\n",
    "            return 'Lengths are not the same. Could not compute.'\n",
    "            \n",
    "        \n",
    "    \n",
    "                  \n",
    "stu = Student(12145, 'jack', 'smith', [79.0, 93.5], [2, 5], 'economics')\n",
    "\n",
    "stu.appender()"
   ]
  },
  {
   "cell_type": "markdown",
   "metadata": {},
   "source": [
    "\n",
    "***\n",
    "\n",
    "### Question 4\n",
    "\n",
    "Create a module in the class Student that computes the unweighted average of the student's grades."
   ]
  },
  {
   "cell_type": "code",
   "execution_count": 4,
   "metadata": {},
   "outputs": [
    {
     "data": {
      "text/plain": [
       "90.625"
      ]
     },
     "execution_count": 4,
     "metadata": {},
     "output_type": "execute_result"
    }
   ],
   "source": [
    "class Student:\n",
    "    def __init__(self, Id, fname, lname, grade, credit, major):\n",
    "        self.Id = Id\n",
    "        self.first_name = fname\n",
    "        self.last_name = lname\n",
    "        self.grades = grade\n",
    "        self.credits = credit\n",
    "        self.major = major\n",
    "    \n",
    "      \n",
    "    def id_check(self):\n",
    "        id_num = list(str(self.Id))\n",
    "        if len(id_num) == 5 and int(id_num[0]) == 1:\n",
    "            return True\n",
    "        else:\n",
    "            return False\n",
    "\n",
    "    def len_match(self):\n",
    "        if len(self.credits) == len(self.grades):\n",
    "            return True\n",
    "        else:\n",
    "            return False\n",
    "        \n",
    "    ## We can add a method to compute unweighted average of grades\n",
    "    def avg_grade(self):\n",
    "        tot = 0\n",
    "        for elem in self.grades:\n",
    "            tot += elem\n",
    "        avg = tot / len(self.grades)\n",
    "        return avg\n",
    "\n",
    "stu2 = Student('14435', 'john', 'williams', [89, 86.5, 88, 99], [3, 4, 1, 4], 'music')\n",
    "\n",
    "stu2.avg_grade()\n",
    "            "
   ]
  },
  {
   "cell_type": "markdown",
   "metadata": {},
   "source": [
    "\n",
    "***\n",
    "\n",
    "### Question 5\n",
    "\n",
    "Create a module in the class Student that computes the weighted average of the student's grades, weighted by the credits."
   ]
  },
  {
   "cell_type": "code",
   "execution_count": 5,
   "metadata": {},
   "outputs": [
    {
     "data": {
      "text/plain": [
       "91.41666666666667"
      ]
     },
     "execution_count": 5,
     "metadata": {},
     "output_type": "execute_result"
    }
   ],
   "source": [
    "class Student:\n",
    "    def __init__(self, Id, fname, lname, grade, credit, major):\n",
    "        self.Id = Id\n",
    "        self.first_name = fname\n",
    "        self.last_name = lname\n",
    "        self.grades = grade\n",
    "        self.credits = credit\n",
    "        self.major = major\n",
    "    \n",
    "      \n",
    "    def id_check(self):\n",
    "        id_num = list(str(self.Id))\n",
    "        if len(id_num) == 5 and int(id_num[0]) == 1:\n",
    "            return True\n",
    "        else:\n",
    "            return False\n",
    "\n",
    "    def len_match(self):\n",
    "        if len(self.credits) == len(self.grades):\n",
    "            return True\n",
    "        else:\n",
    "            return False\n",
    "    ## We can take a weighted average, but first we need to \n",
    "    ## make sure that the credits and grades lists are the same length\n",
    "    \n",
    "    def weighted_avg(self):\n",
    "        if self.len_match() == True:\n",
    "            tot = 0\n",
    "            cred_sum = 0\n",
    "            for i in range(0, len(self.grades)):\n",
    "                tot += self.grades[i] * self.credits[i]\n",
    "            for elem in self.credits:\n",
    "                cred_sum += elem\n",
    "            wgt_avg = tot/cred_sum\n",
    "            return wgt_avg\n",
    "        else:\n",
    "            return \"Sorry, lengths do not match.\"\n",
    "        \n",
    "stu2 = Student('14435', 'john', 'williams', [89, 86.5, 88, 99], [3, 4, 1, 4], 'music')\n",
    "\n",
    "stu2.weighted_avg()        "
   ]
  },
  {
   "cell_type": "markdown",
   "metadata": {},
   "source": [
    "**That's all, folks!**"
   ]
  }
 ],
 "metadata": {
  "kernelspec": {
   "display_name": "Python 3",
   "language": "python",
   "name": "python3"
  },
  "language_info": {
   "codemirror_mode": {
    "name": "ipython",
    "version": 3
   },
   "file_extension": ".py",
   "mimetype": "text/x-python",
   "name": "python",
   "nbconvert_exporter": "python",
   "pygments_lexer": "ipython3",
   "version": "3.8.8"
  }
 },
 "nbformat": 4,
 "nbformat_minor": 4
}
